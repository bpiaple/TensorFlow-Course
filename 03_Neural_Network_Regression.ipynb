{
  "nbformat": 4,
  "nbformat_minor": 0,
  "metadata": {
    "colab": {
      "provenance": [],
      "gpuType": "T4",
      "authorship_tag": "ABX9TyOHpt3zTEj4GWYClvqAEn2B",
      "include_colab_link": true
    },
    "kernelspec": {
      "name": "python3",
      "display_name": "Python 3"
    },
    "language_info": {
      "name": "python"
    },
    "accelerator": "GPU"
  },
  "cells": [
    {
      "cell_type": "markdown",
      "metadata": {
        "id": "view-in-github",
        "colab_type": "text"
      },
      "source": [
        "<a href=\"https://colab.research.google.com/github/bpiaple/TensorFlow-Course/blob/main/03_Neural_Network_Regression.ipynb\" target=\"_parent\"><img src=\"https://colab.research.google.com/assets/colab-badge.svg\" alt=\"Open In Colab\"/></a>"
      ]
    },
    {
      "cell_type": "markdown",
      "source": [
        "# Introduction to Regression with Neural Networks in Tensorflow\n",
        "\n",
        "There are many definitions for a regression problem but in our case, we're going to simplify it: predicting a numerical variable based on some other combination of variables, even shorter... predicting a number"
      ],
      "metadata": {
        "id": "LhVLJ3YONDzz"
      }
    },
    {
      "cell_type": "code",
      "execution_count": 1,
      "metadata": {
        "colab": {
          "base_uri": "https://localhost:8080/"
        },
        "id": "2mXdW70WI7NH",
        "outputId": "f1e70c20-aab9-4128-ba21-60ea8257ed4c"
      },
      "outputs": [
        {
          "output_type": "stream",
          "name": "stdout",
          "text": [
            "2.15.0\n"
          ]
        }
      ],
      "source": [
        "#Import Tensorflow\n",
        "import tensorflow as tf\n",
        "\n",
        "print(tf.__version__)"
      ]
    },
    {
      "cell_type": "markdown",
      "source": [
        "# Creating some data to work with\n",
        "\n"
      ],
      "metadata": {
        "id": "LINMbqiJLIag"
      }
    },
    {
      "cell_type": "code",
      "source": [
        "import numpy as np\n",
        "import matplotlib.pyplot as plt\n",
        "\n",
        "# Create features\n",
        "X = np.array([-7.0, -4.0, -1.0, 2.0, 5.0, 8.0, 11.0, 14.0], dtype=np.float32)\n",
        "\n",
        "# Create labels\n",
        "Y = np.array([3.0, 6.0, 9.0, 12.0, 15.0, 18.0, 21.0, 24.0], dtype=np.float32)\n",
        "\n",
        "# Visualize it\n",
        "plt.scatter(X, Y)"
      ],
      "metadata": {
        "colab": {
          "base_uri": "https://localhost:8080/",
          "height": 453
        },
        "id": "Jf7GSAlKN7DE",
        "outputId": "11d91f09-ff17-4ac9-9cbf-0a448c7ff215"
      },
      "execution_count": 2,
      "outputs": [
        {
          "output_type": "execute_result",
          "data": {
            "text/plain": [
              "<matplotlib.collections.PathCollection at 0x7ddf94477af0>"
            ]
          },
          "metadata": {},
          "execution_count": 2
        },
        {
          "output_type": "display_data",
          "data": {
            "text/plain": [
              "<Figure size 640x480 with 1 Axes>"
            ],
            "image/png": "[encoded data removed]"
          },
          "metadata": {}
        }
      ]
    },
    {
      "cell_type": "code",
      "source": [
        "Y == X + 10\n"
      ],
      "metadata": {
        "colab": {
          "base_uri": "https://localhost:8080/"
        },
        "id": "7C0E1lG2OWeH",
        "outputId": "2bf143a4-785c-4a72-f7bf-d3dc13ef0cc6"
      },
      "execution_count": 3,
      "outputs": [
        {
          "output_type": "execute_result",
          "data": {
            "text/plain": [
              "array([ True,  True,  True,  True,  True,  True,  True,  True])"
            ]
          },
          "metadata": {},
          "execution_count": 3
        }
      ]
    },
    {
      "cell_type": "markdown",
      "source": [
        "# Imput and Output shapes"
      ],
      "metadata": {
        "id": "ggPUsYi-Oee6"
      }
    },
    {
      "cell_type": "code",
      "source": [
        "X.shape, Y.shape"
      ],
      "metadata": {
        "colab": {
          "base_uri": "https://localhost:8080/"
        },
        "id": "PY6cujB9PAU9",
        "outputId": "9ee159e6-8f68-495d-91b2-b3048a637bfb"
      },
      "execution_count": 4,
      "outputs": [
        {
          "output_type": "execute_result",
          "data": {
            "text/plain": [
              "((8,), (8,))"
            ]
          },
          "metadata": {},
          "execution_count": 4
        }
      ]
    },
    {
      "cell_type": "code",
      "source": [
        "# Create a demo tensor for out housing price prediction problem\n",
        "\n",
        "house_info = tf.constant([\"bedroom\", \"bathroom\", \"garage\"])\n",
        "house_price = tf.constant([939700])\n",
        "house_price, house_info"
      ],
      "metadata": {
        "colab": {
          "base_uri": "https://localhost:8080/"
        },
        "id": "GqOOCvXDOhns",
        "outputId": "1f28cf06-8ca0-43fe-9c27-b7ba6eb240c4"
      },
      "execution_count": 5,
      "outputs": [
        {
          "output_type": "execute_result",
          "data": {
            "text/plain": [
              "(<tf.Tensor: shape=(1,), dtype=int32, numpy=array([939700], dtype=int32)>,\n",
              " <tf.Tensor: shape=(3,), dtype=string, numpy=array([b'bedroom', b'bathroom', b'garage'], dtype=object)>)"
            ]
          },
          "metadata": {},
          "execution_count": 5
        }
      ]
    },
    {
      "cell_type": "code",
      "source": [
        "# Turn our numpy arrays into tensors\n",
        "X = tf.constant(X)\n",
        "Y = tf.constant(Y)\n",
        "X, Y"
      ],
      "metadata": {
        "colab": {
          "base_uri": "https://localhost:8080/"
        },
        "id": "Hk3tVuvRPiWl",
        "outputId": "ed4a6eb9-0bc9-4d1f-f66b-dbb3db97e7d2"
      },
      "execution_count": 6,
      "outputs": [
        {
          "output_type": "execute_result",
          "data": {
            "text/plain": [
              "(<tf.Tensor: shape=(8,), dtype=float32, numpy=array([-7., -4., -1.,  2.,  5.,  8., 11., 14.], dtype=float32)>,\n",
              " <tf.Tensor: shape=(8,), dtype=float32, numpy=array([ 3.,  6.,  9., 12., 15., 18., 21., 24.], dtype=float32)>)"
            ]
          },
          "metadata": {},
          "execution_count": 6
        }
      ]
    },
    {
      "cell_type": "code",
      "source": [
        "input_shape = X[0].shape\n",
        "output_shape = Y[0].shape\n",
        "input_shape, output_shape"
      ],
      "metadata": {
        "colab": {
          "base_uri": "https://localhost:8080/"
        },
        "id": "jfH4mwS-Puxf",
        "outputId": "fb81b42b-5362-4015-a010-964ae14e3f5f"
      },
      "execution_count": 7,
      "outputs": [
        {
          "output_type": "execute_result",
          "data": {
            "text/plain": [
              "(TensorShape([]), TensorShape([]))"
            ]
          },
          "metadata": {},
          "execution_count": 7
        }
      ]
    },
    {
      "cell_type": "code",
      "source": [
        "plt.scatter(X, Y)"
      ],
      "metadata": {
        "colab": {
          "base_uri": "https://localhost:8080/",
          "height": 453
        },
        "id": "UAPICW-mPzJi",
        "outputId": "46293767-59b5-4cfb-c8f6-541d60ca0110"
      },
      "execution_count": 8,
      "outputs": [
        {
          "output_type": "execute_result",
          "data": {
            "text/plain": [
              "<matplotlib.collections.PathCollection at 0x7ddf92146830>"
            ]
          },
          "metadata": {},
          "execution_count": 8
        },
        {
          "output_type": "display_data",
          "data": {
            "text/plain": [
              "<Figure size 640x480 with 1 Axes>"
            ],
            "image/png": "[encoded data removed]"
          },
          "metadata": {}
        }
      ]
    },
    {
      "cell_type": "markdown",
      "source": [
        "## Steps in modelling with tensorflow\n",
        "\n",
        "1. Creating a model - define the input and output layers, as well as hidden layers of a deep learning model\n",
        "2. Compiling the model - define the loss function (in other words, the function which tells our model how wrong it is) and the optimizer (tells our model how to improve the patterns its learning) and evaluation metrics (what we can use to interpret the performance of our model)\n",
        "3. Fitting the model - letting the model to try to find patterns between X & Y (features and labels)"
      ],
      "metadata": {
        "id": "SEWRBGMaP3an"
      }
    },
    {
      "cell_type": "code",
      "source": [
        "# Set the random seed\n",
        "tf.random.set_seed(42)"
      ],
      "metadata": {
        "id": "isSJcrECQJhs"
      },
      "execution_count": 9,
      "outputs": []
    },
    {
      "cell_type": "code",
      "source": [
        "# 1. Create a model using the Sequential API\n",
        "model = tf.keras.Sequential([\n",
        "    tf.keras.layers.Dense(10, activation=\"relu\"),\n",
        "    tf.keras.layers.Dense(1)\n",
        "])\n",
        "\n",
        "# 2. Compile the model\n",
        "model.compile(loss=tf.keras.losses.mae,\n",
        "              optimizer=tf.keras.optimizers.SGD(),\n",
        "              metrics=[\"mae\"])\n",
        "\n",
        "# 3. Fit the model\n",
        "model.fit(tf.expand_dims(X, axis=-1), Y, epochs=5)"
      ],
      "metadata": {
        "colab": {
          "base_uri": "https://localhost:8080/"
        },
        "id": "KxWJt8A_QgW5",
        "outputId": "7f051728-8508-4261-c4af-5e77d63c598a"
      },
      "execution_count": 10,
      "outputs": [
        {
          "output_type": "stream",
          "name": "stdout",
          "text": [
            "Epoch 1/5\n",
            "1/1 [==============================] - 4s 4s/step - loss: 13.7580 - mae: 13.7580\n",
            "Epoch 2/5\n",
            "1/1 [==============================] - 0s 16ms/step - loss: 13.6631 - mae: 13.6631\n",
            "Epoch 3/5\n",
            "1/1 [==============================] - 0s 23ms/step - loss: 13.5676 - mae: 13.5676\n",
            "Epoch 4/5\n",
            "1/1 [==============================] - 0s 23ms/step - loss: 13.5078 - mae: 13.5078\n",
            "Epoch 5/5\n",
            "1/1 [==============================] - 0s 9ms/step - loss: 13.4370 - mae: 13.4370\n"
          ]
        },
        {
          "output_type": "execute_result",
          "data": {
            "text/plain": [
              "<keras.src.callbacks.History at 0x7ddf898ef340>"
            ]
          },
          "metadata": {},
          "execution_count": 10
        }
      ]
    },
    {
      "cell_type": "code",
      "source": [
        "model.predict([17.0])"
      ],
      "metadata": {
        "colab": {
          "base_uri": "https://localhost:8080/"
        },
        "id": "6Utz46INSw1j",
        "outputId": "1a54ad60-1a56-4102-fe54-dc6a5d4f05c5"
      },
      "execution_count": 11,
      "outputs": [
        {
          "output_type": "stream",
          "name": "stdout",
          "text": [
            "1/1 [==============================] - 0s 188ms/step\n"
          ]
        },
        {
          "output_type": "execute_result",
          "data": {
            "text/plain": [
              "array([[1.0020062]], dtype=float32)"
            ]
          },
          "metadata": {},
          "execution_count": 11
        }
      ]
    },
    {
      "cell_type": "markdown",
      "source": [
        "## Imporving our model\n",
        "\n",
        "we can improve our model, by altering the steps we took to create a model\n",
        "\n",
        "2. **Creating a model** - here we might add more layers, increase the number of hidden units (all called neurons) within each of the hideen layers, change the activation function of each layer.\n",
        "2. **Compiling a model** - here we might change the optimization fucntion or perhaps the **learning rate** of the optimazation function.\n",
        "3. **Fitting a model** - here we might fit a mdoel for more **epochs** (leave it training for longer) or on more date (give more examples to learn from)."
      ],
      "metadata": {
        "id": "INueOcFqTBMs"
      }
    },
    {
      "cell_type": "code",
      "source": [
        "# Let's rebuild our model\n",
        "\n",
        "# 1. Create the model\n",
        "model = tf.keras.Sequential([\n",
        "    tf.keras.layers.Dense(1)\n",
        "\n",
        "])\n",
        "\n",
        "# 2. Compile the model\n",
        "model.compile(loss=tf.keras.losses.mae,\n",
        "              optimizer=tf.keras.optimizers.SGD(),\n",
        "              metrics=[\"mae\"])\n",
        "\n",
        "# 3. Fit the model\n",
        "model.fit(tf.expand_dims(X, axis=-1), Y, epochs=100)"
      ],
      "metadata": {
        "colab": {
          "base_uri": "https://localhost:8080/"
        },
        "id": "UgBLKzZzU2iT",
        "outputId": "0bf7efae-0440-47c1-e260-71c897f20ac6"
      },
      "execution_count": 12,
      "outputs": [
        {
          "output_type": "stream",
          "name": "stdout",
          "text": [
            "Epoch 1/100\n",
            "1/1 [==============================] - 0s 349ms/step - loss: 8.6853 - mae: 8.6853\n",
            "Epoch 2/100\n",
            "1/1 [==============================] - 0s 10ms/step - loss: 8.5528 - mae: 8.5528\n",
            "Epoch 3/100\n",
            "1/1 [==============================] - 0s 9ms/step - loss: 8.4203 - mae: 8.4203\n",
            "Epoch 4/100\n",
            "1/1 [==============================] - 0s 10ms/step - loss: 8.2878 - mae: 8.2878\n",
            "Epoch 5/100\n",
            "1/1 [==============================] - 0s 9ms/step - loss: 8.1553 - mae: 8.1553\n",
            "Epoch 6/100\n",
            "1/1 [==============================] - 0s 9ms/step - loss: 8.0228 - mae: 8.0228\n",
            "Epoch 7/100\n",
            "1/1 [==============================] - 0s 10ms/step - loss: 7.8903 - mae: 7.8903\n",
            "Epoch 8/100\n",
            "1/1 [==============================] - 0s 10ms/step - loss: 7.7578 - mae: 7.7578\n",
            "Epoch 9/100\n",
            "1/1 [==============================] - 0s 8ms/step - loss: 7.6253 - mae: 7.6253\n",
            "Epoch 10/100\n",
            "1/1 [==============================] - 0s 9ms/step - loss: 7.4928 - mae: 7.4928\n",
            "Epoch 11/100\n",
            "1/1 [==============================] - 0s 9ms/step - loss: 7.4250 - mae: 7.4250\n",
            "Epoch 12/100\n",
            "1/1 [==============================] - 0s 9ms/step - loss: 7.4194 - mae: 7.4194\n",
            "Epoch 13/100\n",
            "1/1 [==============================] - 0s 10ms/step - loss: 7.4138 - mae: 7.4138\n",
            "Epoch 14/100\n",
            "1/1 [==============================] - 0s 10ms/step - loss: 7.4081 - mae: 7.4081\n",
            "Epoch 15/100\n",
            "1/1 [==============================] - 0s 12ms/step - loss: 7.4025 - mae: 7.4025\n",
            "Epoch 16/100\n",
            "1/1 [==============================] - 0s 11ms/step - loss: 7.3969 - mae: 7.3969\n",
            "Epoch 17/100\n",
            "1/1 [==============================] - 0s 10ms/step - loss: 7.3913 - mae: 7.3913\n",
            "Epoch 18/100\n",
            "1/1 [==============================] - 0s 9ms/step - loss: 7.3856 - mae: 7.3856\n",
            "Epoch 19/100\n",
            "1/1 [==============================] - 0s 9ms/step - loss: 7.3800 - mae: 7.3800\n",
            "Epoch 20/100\n",
            "1/1 [==============================] - 0s 9ms/step - loss: 7.3744 - mae: 7.3744\n",
            "Epoch 21/100\n",
            "1/1 [==============================] - 0s 9ms/step - loss: 7.3688 - mae: 7.3688\n",
            "Epoch 22/100\n",
            "1/1 [==============================] - 0s 10ms/step - loss: 7.3631 - mae: 7.3631\n",
            "Epoch 23/100\n",
            "1/1 [==============================] - 0s 9ms/step - loss: 7.3575 - mae: 7.3575\n",
            "Epoch 24/100\n",
            "1/1 [==============================] - 0s 9ms/step - loss: 7.3519 - mae: 7.3519\n",
            "Epoch 25/100\n",
            "1/1 [==============================] - 0s 9ms/step - loss: 7.3462 - mae: 7.3462\n",
            "Epoch 26/100\n",
            "1/1 [==============================] - 0s 9ms/step - loss: 7.3406 - mae: 7.3406\n",
            "Epoch 27/100\n",
            "1/1 [==============================] - 0s 14ms/step - loss: 7.3350 - mae: 7.3350\n",
            "Epoch 28/100\n",
            "1/1 [==============================] - 0s 9ms/step - loss: 7.3294 - mae: 7.3294\n",
            "Epoch 29/100\n",
            "1/1 [==============================] - 0s 9ms/step - loss: 7.3238 - mae: 7.3238\n",
            "Epoch 30/100\n",
            "1/1 [==============================] - 0s 16ms/step - loss: 7.3181 - mae: 7.3181\n",
            "Epoch 31/100\n",
            "1/1 [==============================] - 0s 9ms/step - loss: 7.3125 - mae: 7.3125\n",
            "Epoch 32/100\n",
            "1/1 [==============================] - 0s 15ms/step - loss: 7.3069 - mae: 7.3069\n",
            "Epoch 33/100\n",
            "1/1 [==============================] - 0s 10ms/step - loss: 7.3012 - mae: 7.3012\n",
            "Epoch 34/100\n",
            "1/1 [==============================] - 0s 9ms/step - loss: 7.2956 - mae: 7.2956\n",
            "Epoch 35/100\n",
            "1/1 [==============================] - 0s 9ms/step - loss: 7.2900 - mae: 7.2900\n",
            "Epoch 36/100\n",
            "1/1 [==============================] - 0s 9ms/step - loss: 7.2844 - mae: 7.2844\n",
            "Epoch 37/100\n",
            "1/1 [==============================] - 0s 9ms/step - loss: 7.2787 - mae: 7.2787\n",
            "Epoch 38/100\n",
            "1/1 [==============================] - 0s 12ms/step - loss: 7.2731 - mae: 7.2731\n",
            "Epoch 39/100\n",
            "1/1 [==============================] - 0s 13ms/step - loss: 7.2675 - mae: 7.2675\n",
            "Epoch 40/100\n",
            "1/1 [==============================] - 0s 8ms/step - loss: 7.2619 - mae: 7.2619\n",
            "Epoch 41/100\n",
            "1/1 [==============================] - 0s 10ms/step - loss: 7.2562 - mae: 7.2562\n",
            "Epoch 42/100\n",
            "1/1 [==============================] - 0s 10ms/step - loss: 7.2506 - mae: 7.2506\n",
            "Epoch 43/100\n",
            "1/1 [==============================] - 0s 10ms/step - loss: 7.2450 - mae: 7.2450\n",
            "Epoch 44/100\n",
            "1/1 [==============================] - 0s 12ms/step - loss: 7.2394 - mae: 7.2394\n",
            "Epoch 45/100\n",
            "1/1 [==============================] - 0s 9ms/step - loss: 7.2338 - mae: 7.2338\n",
            "Epoch 46/100\n",
            "1/1 [==============================] - 0s 11ms/step - loss: 7.2281 - mae: 7.2281\n",
            "Epoch 47/100\n",
            "1/1 [==============================] - 0s 10ms/step - loss: 7.2225 - mae: 7.2225\n",
            "Epoch 48/100\n",
            "1/1 [==============================] - 0s 13ms/step - loss: 7.2169 - mae: 7.2169\n",
            "Epoch 49/100\n",
            "1/1 [==============================] - 0s 12ms/step - loss: 7.2112 - mae: 7.2112\n",
            "Epoch 50/100\n",
            "1/1 [==============================] - 0s 10ms/step - loss: 7.2056 - mae: 7.2056\n",
            "Epoch 51/100\n",
            "1/1 [==============================] - 0s 10ms/step - loss: 7.2000 - mae: 7.2000\n",
            "Epoch 52/100\n",
            "1/1 [==============================] - 0s 12ms/step - loss: 7.1944 - mae: 7.1944\n",
            "Epoch 53/100\n",
            "1/1 [==============================] - 0s 11ms/step - loss: 7.1888 - mae: 7.1888\n",
            "Epoch 54/100\n",
            "1/1 [==============================] - 0s 9ms/step - loss: 7.1831 - mae: 7.1831\n",
            "Epoch 55/100\n",
            "1/1 [==============================] - 0s 14ms/step - loss: 7.1775 - mae: 7.1775\n",
            "Epoch 56/100\n",
            "1/1 [==============================] - 0s 18ms/step - loss: 7.1719 - mae: 7.1719\n",
            "Epoch 57/100\n",
            "1/1 [==============================] - 0s 24ms/step - loss: 7.1662 - mae: 7.1662\n",
            "Epoch 58/100\n",
            "1/1 [==============================] - 0s 11ms/step - loss: 7.1606 - mae: 7.1606\n",
            "Epoch 59/100\n",
            "1/1 [==============================] - 0s 11ms/step - loss: 7.1550 - mae: 7.1550\n",
            "Epoch 60/100\n",
            "1/1 [==============================] - 0s 12ms/step - loss: 7.1494 - mae: 7.1494\n",
            "Epoch 61/100\n",
            "1/1 [==============================] - 0s 14ms/step - loss: 7.1438 - mae: 7.1438\n",
            "Epoch 62/100\n",
            "1/1 [==============================] - 0s 12ms/step - loss: 7.1381 - mae: 7.1381\n",
            "Epoch 63/100\n",
            "1/1 [==============================] - 0s 10ms/step - loss: 7.1325 - mae: 7.1325\n",
            "Epoch 64/100\n",
            "1/1 [==============================] - 0s 10ms/step - loss: 7.1269 - mae: 7.1269\n",
            "Epoch 65/100\n",
            "1/1 [==============================] - 0s 10ms/step - loss: 7.1213 - mae: 7.1213\n",
            "Epoch 66/100\n",
            "1/1 [==============================] - 0s 12ms/step - loss: 7.1156 - mae: 7.1156\n",
            "Epoch 67/100\n",
            "1/1 [==============================] - 0s 10ms/step - loss: 7.1100 - mae: 7.1100\n",
            "Epoch 68/100\n",
            "1/1 [==============================] - 0s 10ms/step - loss: 7.1044 - mae: 7.1044\n",
            "Epoch 69/100\n",
            "1/1 [==============================] - 0s 11ms/step - loss: 7.0988 - mae: 7.0988\n",
            "Epoch 70/100\n",
            "1/1 [==============================] - 0s 10ms/step - loss: 7.0931 - mae: 7.0931\n",
            "Epoch 71/100\n",
            "1/1 [==============================] - 0s 10ms/step - loss: 7.0875 - mae: 7.0875\n",
            "Epoch 72/100\n",
            "1/1 [==============================] - 0s 9ms/step - loss: 7.0819 - mae: 7.0819\n",
            "Epoch 73/100\n",
            "1/1 [==============================] - 0s 10ms/step - loss: 7.0763 - mae: 7.0763\n",
            "Epoch 74/100\n",
            "1/1 [==============================] - 0s 10ms/step - loss: 7.0706 - mae: 7.0706\n",
            "Epoch 75/100\n",
            "1/1 [==============================] - 0s 11ms/step - loss: 7.0650 - mae: 7.0650\n",
            "Epoch 76/100\n",
            "1/1 [==============================] - 0s 13ms/step - loss: 7.0594 - mae: 7.0594\n",
            "Epoch 77/100\n",
            "1/1 [==============================] - 0s 17ms/step - loss: 7.0538 - mae: 7.0538\n",
            "Epoch 78/100\n",
            "1/1 [==============================] - 0s 10ms/step - loss: 7.0481 - mae: 7.0481\n",
            "Epoch 79/100\n",
            "1/1 [==============================] - 0s 10ms/step - loss: 7.0425 - mae: 7.0425\n",
            "Epoch 80/100\n",
            "1/1 [==============================] - 0s 11ms/step - loss: 7.0369 - mae: 7.0369\n",
            "Epoch 81/100\n",
            "1/1 [==============================] - 0s 9ms/step - loss: 7.0313 - mae: 7.0313\n",
            "Epoch 82/100\n",
            "1/1 [==============================] - 0s 10ms/step - loss: 7.0256 - mae: 7.0256\n",
            "Epoch 83/100\n",
            "1/1 [==============================] - 0s 10ms/step - loss: 7.0200 - mae: 7.0200\n",
            "Epoch 84/100\n",
            "1/1 [==============================] - 0s 10ms/step - loss: 7.0144 - mae: 7.0144\n",
            "Epoch 85/100\n",
            "1/1 [==============================] - 0s 9ms/step - loss: 7.0087 - mae: 7.0087\n",
            "Epoch 86/100\n",
            "1/1 [==============================] - 0s 11ms/step - loss: 7.0031 - mae: 7.0031\n",
            "Epoch 87/100\n",
            "1/1 [==============================] - 0s 10ms/step - loss: 6.9975 - mae: 6.9975\n",
            "Epoch 88/100\n",
            "1/1 [==============================] - 0s 10ms/step - loss: 6.9919 - mae: 6.9919\n",
            "Epoch 89/100\n",
            "1/1 [==============================] - 0s 10ms/step - loss: 6.9863 - mae: 6.9863\n",
            "Epoch 90/100\n",
            "1/1 [==============================] - 0s 10ms/step - loss: 6.9806 - mae: 6.9806\n",
            "Epoch 91/100\n",
            "1/1 [==============================] - 0s 11ms/step - loss: 6.9750 - mae: 6.9750\n",
            "Epoch 92/100\n",
            "1/1 [==============================] - 0s 12ms/step - loss: 6.9694 - mae: 6.9694\n",
            "Epoch 93/100\n",
            "1/1 [==============================] - 0s 10ms/step - loss: 6.9638 - mae: 6.9638\n",
            "Epoch 94/100\n",
            "1/1 [==============================] - 0s 12ms/step - loss: 6.9581 - mae: 6.9581\n",
            "Epoch 95/100\n",
            "1/1 [==============================] - 0s 11ms/step - loss: 6.9525 - mae: 6.9525\n",
            "Epoch 96/100\n",
            "1/1 [==============================] - 0s 11ms/step - loss: 6.9469 - mae: 6.9469\n",
            "Epoch 97/100\n",
            "1/1 [==============================] - 0s 11ms/step - loss: 6.9413 - mae: 6.9413\n",
            "Epoch 98/100\n",
            "1/1 [==============================] - 0s 9ms/step - loss: 6.9356 - mae: 6.9356\n",
            "Epoch 99/100\n",
            "1/1 [==============================] - 0s 10ms/step - loss: 6.9300 - mae: 6.9300\n",
            "Epoch 100/100\n",
            "1/1 [==============================] - 0s 11ms/step - loss: 6.9244 - mae: 6.9244\n"
          ]
        },
        {
          "output_type": "execute_result",
          "data": {
            "text/plain": [
              "<keras.src.callbacks.History at 0x7ddf898ef520>"
            ]
          },
          "metadata": {},
          "execution_count": 12
        }
      ]
    },
    {
      "cell_type": "code",
      "source": [
        "# Remind ourselves of the data\n",
        "X, Y"
      ],
      "metadata": {
        "colab": {
          "base_uri": "https://localhost:8080/"
        },
        "id": "4J5EOZhrWPD5",
        "outputId": "9af8ad69-07e3-49d3-f224-38032bbf46d4"
      },
      "execution_count": 13,
      "outputs": [
        {
          "output_type": "execute_result",
          "data": {
            "text/plain": [
              "(<tf.Tensor: shape=(8,), dtype=float32, numpy=array([-7., -4., -1.,  2.,  5.,  8., 11., 14.], dtype=float32)>,\n",
              " <tf.Tensor: shape=(8,), dtype=float32, numpy=array([ 3.,  6.,  9., 12., 15., 18., 21., 24.], dtype=float32)>)"
            ]
          },
          "metadata": {},
          "execution_count": 13
        }
      ]
    },
    {
      "cell_type": "code",
      "source": [
        "model.predict([-7.0])"
      ],
      "metadata": {
        "colab": {
          "base_uri": "https://localhost:8080/"
        },
        "id": "4UuNr096THbl",
        "outputId": "e4f46f4b-b68e-4907-a4e9-2b27526643d7"
      },
      "execution_count": 14,
      "outputs": [
        {
          "output_type": "stream",
          "name": "stdout",
          "text": [
            "1/1 [==============================] - 0s 85ms/step\n"
          ]
        },
        {
          "output_type": "execute_result",
          "data": {
            "text/plain": [
              "array([[-11.304388]], dtype=float32)"
            ]
          },
          "metadata": {},
          "execution_count": 14
        }
      ]
    },
    {
      "cell_type": "code",
      "source": [
        "# Let's see if we can make another model to improve it\n",
        "\n",
        "# 1. Create the model\n",
        "model = tf.keras.Sequential([\n",
        "    tf.keras.layers.Dense(100, activation=\"relu\"),\n",
        "    tf.keras.layers.Dense(1)\n",
        "])\n",
        "\n",
        "# 2. Compile the model\n",
        "model.compile(loss=tf.keras.losses.mae,\n",
        "              optimizer=tf.keras.optimizers.Adam(learning_rate=0.01),\n",
        "              metrics=[\"mae\"])\n",
        "\n",
        "# 3. Fit the model\n",
        "model.fit(tf.expand_dims(X, axis=-1), Y, epochs=100)"
      ],
      "metadata": {
        "colab": {
          "base_uri": "https://localhost:8080/"
        },
        "id": "NXgT66QXbPZ8",
        "outputId": "ef386a72-9eff-4dde-98e8-aec0778132e2"
      },
      "execution_count": 15,
      "outputs": [
        {
          "output_type": "stream",
          "name": "stdout",
          "text": [
            "Epoch 1/100\n",
            "1/1 [==============================] - 1s 1s/step - loss: 13.7364 - mae: 13.7364\n",
            "Epoch 2/100\n",
            "1/1 [==============================] - 0s 12ms/step - loss: 12.9401 - mae: 12.9401\n",
            "Epoch 3/100\n",
            "1/1 [==============================] - 0s 10ms/step - loss: 12.1445 - mae: 12.1445\n",
            "Epoch 4/100\n",
            "1/1 [==============================] - 0s 10ms/step - loss: 11.4421 - mae: 11.4421\n",
            "Epoch 5/100\n",
            "1/1 [==============================] - 0s 13ms/step - loss: 10.8969 - mae: 10.8969\n",
            "Epoch 6/100\n",
            "1/1 [==============================] - 0s 13ms/step - loss: 10.3391 - mae: 10.3391\n",
            "Epoch 7/100\n",
            "1/1 [==============================] - 0s 10ms/step - loss: 9.7711 - mae: 9.7711\n",
            "Epoch 8/100\n",
            "1/1 [==============================] - 0s 10ms/step - loss: 9.1836 - mae: 9.1836\n",
            "Epoch 9/100\n",
            "1/1 [==============================] - 0s 9ms/step - loss: 8.5783 - mae: 8.5783\n",
            "Epoch 10/100\n",
            "1/1 [==============================] - 0s 10ms/step - loss: 7.9527 - mae: 7.9527\n",
            "Epoch 11/100\n",
            "1/1 [==============================] - 0s 12ms/step - loss: 7.3019 - mae: 7.3019\n",
            "Epoch 12/100\n",
            "1/1 [==============================] - 0s 11ms/step - loss: 6.6248 - mae: 6.6248\n",
            "Epoch 13/100\n",
            "1/1 [==============================] - 0s 11ms/step - loss: 5.9193 - mae: 5.9193\n",
            "Epoch 14/100\n",
            "1/1 [==============================] - 0s 10ms/step - loss: 5.1844 - mae: 5.1844\n",
            "Epoch 15/100\n",
            "1/1 [==============================] - 0s 12ms/step - loss: 4.4175 - mae: 4.4175\n",
            "Epoch 16/100\n",
            "1/1 [==============================] - 0s 13ms/step - loss: 3.8295 - mae: 3.8295\n",
            "Epoch 17/100\n",
            "1/1 [==============================] - 0s 13ms/step - loss: 3.6696 - mae: 3.6696\n",
            "Epoch 18/100\n",
            "1/1 [==============================] - 0s 14ms/step - loss: 3.7950 - mae: 3.7950\n",
            "Epoch 19/100\n",
            "1/1 [==============================] - 0s 12ms/step - loss: 3.9059 - mae: 3.9059\n",
            "Epoch 20/100\n",
            "1/1 [==============================] - 0s 11ms/step - loss: 4.1531 - mae: 4.1531\n",
            "Epoch 21/100\n",
            "1/1 [==============================] - 0s 12ms/step - loss: 4.3048 - mae: 4.3048\n",
            "Epoch 22/100\n",
            "1/1 [==============================] - 0s 13ms/step - loss: 4.3716 - mae: 4.3716\n",
            "Epoch 23/100\n",
            "1/1 [==============================] - 0s 12ms/step - loss: 4.3635 - mae: 4.3635\n",
            "Epoch 24/100\n",
            "1/1 [==============================] - 0s 12ms/step - loss: 4.2917 - mae: 4.2917\n",
            "Epoch 25/100\n",
            "1/1 [==============================] - 0s 12ms/step - loss: 4.1699 - mae: 4.1699\n",
            "Epoch 26/100\n",
            "1/1 [==============================] - 0s 12ms/step - loss: 3.9994 - mae: 3.9994\n",
            "Epoch 27/100\n",
            "1/1 [==============================] - 0s 13ms/step - loss: 3.7850 - mae: 3.7850\n",
            "Epoch 28/100\n",
            "1/1 [==============================] - 0s 12ms/step - loss: 3.5362 - mae: 3.5362\n",
            "Epoch 29/100\n",
            "1/1 [==============================] - 0s 13ms/step - loss: 3.3982 - mae: 3.3982\n",
            "Epoch 30/100\n",
            "1/1 [==============================] - 0s 14ms/step - loss: 3.2537 - mae: 3.2537\n",
            "Epoch 31/100\n",
            "1/1 [==============================] - 0s 11ms/step - loss: 3.2051 - mae: 3.2051\n",
            "Epoch 32/100\n",
            "1/1 [==============================] - 0s 10ms/step - loss: 3.0797 - mae: 3.0797\n",
            "Epoch 33/100\n",
            "1/1 [==============================] - 0s 10ms/step - loss: 2.9803 - mae: 2.9803\n",
            "Epoch 34/100\n",
            "1/1 [==============================] - 0s 9ms/step - loss: 2.9937 - mae: 2.9937\n",
            "Epoch 35/100\n",
            "1/1 [==============================] - 0s 10ms/step - loss: 2.9700 - mae: 2.9700\n",
            "Epoch 36/100\n",
            "1/1 [==============================] - 0s 10ms/step - loss: 2.9028 - mae: 2.9028\n",
            "Epoch 37/100\n",
            "1/1 [==============================] - 0s 10ms/step - loss: 2.7958 - mae: 2.7958\n",
            "Epoch 38/100\n",
            "1/1 [==============================] - 0s 9ms/step - loss: 2.6535 - mae: 2.6535\n",
            "Epoch 39/100\n",
            "1/1 [==============================] - 0s 39ms/step - loss: 2.5235 - mae: 2.5235\n",
            "Epoch 40/100\n",
            "1/1 [==============================] - 0s 14ms/step - loss: 2.4816 - mae: 2.4816\n",
            "Epoch 41/100\n",
            "1/1 [==============================] - 0s 11ms/step - loss: 2.4205 - mae: 2.4205\n",
            "Epoch 42/100\n",
            "1/1 [==============================] - 0s 11ms/step - loss: 2.3386 - mae: 2.3386\n",
            "Epoch 43/100\n",
            "1/1 [==============================] - 0s 12ms/step - loss: 2.2411 - mae: 2.2411\n",
            "Epoch 44/100\n",
            "1/1 [==============================] - 0s 13ms/step - loss: 2.1333 - mae: 2.1333\n",
            "Epoch 45/100\n",
            "1/1 [==============================] - 0s 11ms/step - loss: 2.0097 - mae: 2.0097\n",
            "Epoch 46/100\n",
            "1/1 [==============================] - 0s 12ms/step - loss: 1.8706 - mae: 1.8706\n",
            "Epoch 47/100\n",
            "1/1 [==============================] - 0s 11ms/step - loss: 1.7196 - mae: 1.7196\n",
            "Epoch 48/100\n",
            "1/1 [==============================] - 0s 14ms/step - loss: 1.5593 - mae: 1.5593\n",
            "Epoch 49/100\n",
            "1/1 [==============================] - 0s 9ms/step - loss: 1.3792 - mae: 1.3792\n",
            "Epoch 50/100\n",
            "1/1 [==============================] - 0s 11ms/step - loss: 1.2983 - mae: 1.2983\n",
            "Epoch 51/100\n",
            "1/1 [==============================] - 0s 13ms/step - loss: 1.1591 - mae: 1.1591\n",
            "Epoch 52/100\n",
            "1/1 [==============================] - 0s 11ms/step - loss: 0.9191 - mae: 0.9191\n",
            "Epoch 53/100\n",
            "1/1 [==============================] - 0s 13ms/step - loss: 0.7648 - mae: 0.7648\n",
            "Epoch 54/100\n",
            "1/1 [==============================] - 0s 13ms/step - loss: 0.7625 - mae: 0.7625\n",
            "Epoch 55/100\n",
            "1/1 [==============================] - 0s 12ms/step - loss: 0.6287 - mae: 0.6287\n",
            "Epoch 56/100\n",
            "1/1 [==============================] - 0s 12ms/step - loss: 0.3446 - mae: 0.3446\n",
            "Epoch 57/100\n",
            "1/1 [==============================] - 0s 12ms/step - loss: 0.4668 - mae: 0.4668\n",
            "Epoch 58/100\n",
            "1/1 [==============================] - 0s 13ms/step - loss: 0.3525 - mae: 0.3525\n",
            "Epoch 59/100\n",
            "1/1 [==============================] - 0s 13ms/step - loss: 0.3374 - mae: 0.3374\n",
            "Epoch 60/100\n",
            "1/1 [==============================] - 0s 11ms/step - loss: 0.3864 - mae: 0.3864\n",
            "Epoch 61/100\n",
            "1/1 [==============================] - 0s 10ms/step - loss: 0.3806 - mae: 0.3806\n",
            "Epoch 62/100\n",
            "1/1 [==============================] - 0s 11ms/step - loss: 0.4409 - mae: 0.4409\n",
            "Epoch 63/100\n",
            "1/1 [==============================] - 0s 12ms/step - loss: 0.4669 - mae: 0.4669\n",
            "Epoch 64/100\n",
            "1/1 [==============================] - 0s 11ms/step - loss: 0.5485 - mae: 0.5485\n",
            "Epoch 65/100\n",
            "1/1 [==============================] - 0s 11ms/step - loss: 0.3632 - mae: 0.3632\n",
            "Epoch 66/100\n",
            "1/1 [==============================] - 0s 13ms/step - loss: 0.5406 - mae: 0.5406\n",
            "Epoch 67/100\n",
            "1/1 [==============================] - 0s 12ms/step - loss: 0.4804 - mae: 0.4804\n",
            "Epoch 68/100\n",
            "1/1 [==============================] - 0s 11ms/step - loss: 0.4887 - mae: 0.4887\n",
            "Epoch 69/100\n",
            "1/1 [==============================] - 0s 19ms/step - loss: 0.5576 - mae: 0.5576\n",
            "Epoch 70/100\n",
            "1/1 [==============================] - 0s 18ms/step - loss: 0.4067 - mae: 0.4067\n",
            "Epoch 71/100\n",
            "1/1 [==============================] - 0s 12ms/step - loss: 0.1661 - mae: 0.1661\n",
            "Epoch 72/100\n",
            "1/1 [==============================] - 0s 14ms/step - loss: 0.2043 - mae: 0.2043\n",
            "Epoch 73/100\n",
            "1/1 [==============================] - 0s 11ms/step - loss: 0.2779 - mae: 0.2779\n",
            "Epoch 74/100\n",
            "1/1 [==============================] - 0s 10ms/step - loss: 0.2423 - mae: 0.2423\n",
            "Epoch 75/100\n",
            "1/1 [==============================] - 0s 11ms/step - loss: 0.2944 - mae: 0.2944\n",
            "Epoch 76/100\n",
            "1/1 [==============================] - 0s 11ms/step - loss: 0.3216 - mae: 0.3216\n",
            "Epoch 77/100\n",
            "1/1 [==============================] - 0s 10ms/step - loss: 0.3033 - mae: 0.3033\n",
            "Epoch 78/100\n",
            "1/1 [==============================] - 0s 13ms/step - loss: 0.2968 - mae: 0.2968\n",
            "Epoch 79/100\n",
            "1/1 [==============================] - 0s 14ms/step - loss: 0.3656 - mae: 0.3656\n",
            "Epoch 80/100\n",
            "1/1 [==============================] - 0s 13ms/step - loss: 0.2772 - mae: 0.2772\n",
            "Epoch 81/100\n",
            "1/1 [==============================] - 0s 10ms/step - loss: 0.2995 - mae: 0.2995\n",
            "Epoch 82/100\n",
            "1/1 [==============================] - 0s 10ms/step - loss: 0.2257 - mae: 0.2257\n",
            "Epoch 83/100\n",
            "1/1 [==============================] - 0s 12ms/step - loss: 0.1788 - mae: 0.1788\n",
            "Epoch 84/100\n",
            "1/1 [==============================] - 0s 12ms/step - loss: 0.1609 - mae: 0.1609\n",
            "Epoch 85/100\n",
            "1/1 [==============================] - 0s 11ms/step - loss: 0.1652 - mae: 0.1652\n",
            "Epoch 86/100\n",
            "1/1 [==============================] - 0s 11ms/step - loss: 0.2485 - mae: 0.2485\n",
            "Epoch 87/100\n",
            "1/1 [==============================] - 0s 11ms/step - loss: 0.1420 - mae: 0.1420\n",
            "Epoch 88/100\n",
            "1/1 [==============================] - 0s 11ms/step - loss: 0.3321 - mae: 0.3321\n",
            "Epoch 89/100\n",
            "1/1 [==============================] - 0s 11ms/step - loss: 0.4161 - mae: 0.4161\n",
            "Epoch 90/100\n",
            "1/1 [==============================] - 0s 12ms/step - loss: 0.3074 - mae: 0.3074\n",
            "Epoch 91/100\n",
            "1/1 [==============================] - 0s 13ms/step - loss: 0.3230 - mae: 0.3230\n",
            "Epoch 92/100\n",
            "1/1 [==============================] - 0s 12ms/step - loss: 0.3222 - mae: 0.3222\n",
            "Epoch 93/100\n",
            "1/1 [==============================] - 0s 9ms/step - loss: 0.1391 - mae: 0.1391\n",
            "Epoch 94/100\n",
            "1/1 [==============================] - 0s 11ms/step - loss: 0.1560 - mae: 0.1560\n",
            "Epoch 95/100\n",
            "1/1 [==============================] - 0s 10ms/step - loss: 0.2371 - mae: 0.2371\n",
            "Epoch 96/100\n",
            "1/1 [==============================] - 0s 12ms/step - loss: 0.1762 - mae: 0.1762\n",
            "Epoch 97/100\n",
            "1/1 [==============================] - 0s 11ms/step - loss: 0.2471 - mae: 0.2471\n",
            "Epoch 98/100\n",
            "1/1 [==============================] - 0s 11ms/step - loss: 0.2552 - mae: 0.2552\n",
            "Epoch 99/100\n",
            "1/1 [==============================] - 0s 12ms/step - loss: 0.1083 - mae: 0.1083\n",
            "Epoch 100/100\n",
            "1/1 [==============================] - 0s 13ms/step - loss: 0.1985 - mae: 0.1985\n"
          ]
        },
        {
          "output_type": "execute_result",
          "data": {
            "text/plain": [
              "<keras.src.callbacks.History at 0x7ddf804bc730>"
            ]
          },
          "metadata": {},
          "execution_count": 15
        }
      ]
    },
    {
      "cell_type": "code",
      "source": [
        "model.predict([10.0])"
      ],
      "metadata": {
        "colab": {
          "base_uri": "https://localhost:8080/"
        },
        "id": "v9Cl6A_lbdHt",
        "outputId": "37018b22-3c85-4f1a-cfd8-fa6508fc1688"
      },
      "execution_count": 16,
      "outputs": [
        {
          "output_type": "stream",
          "name": "stdout",
          "text": [
            "1/1 [==============================] - 0s 72ms/step\n"
          ]
        },
        {
          "output_type": "execute_result",
          "data": {
            "text/plain": [
              "array([[20.134098]], dtype=float32)"
            ]
          },
          "metadata": {},
          "execution_count": 16
        }
      ]
    },
    {
      "cell_type": "code",
      "source": [
        "model.summary()"
      ],
      "metadata": {
        "colab": {
          "base_uri": "https://localhost:8080/"
        },
        "id": "IkiCgQH4buF7",
        "outputId": "1ed0b1c4-753d-4346-9f85-c97bfeb431aa"
      },
      "execution_count": 17,
      "outputs": [
        {
          "output_type": "stream",
          "name": "stdout",
          "text": [
            "Model: \"sequential_2\"\n",
            "_________________________________________________________________\n",
            " Layer (type)                Output Shape              Param #   \n",
            "=================================================================\n",
            " dense_3 (Dense)             (None, 100)               200       \n",
            "                                                                 \n",
            " dense_4 (Dense)             (None, 1)                 101       \n",
            "                                                                 \n",
            "=================================================================\n",
            "Total params: 301 (1.18 KB)\n",
            "Trainable params: 301 (1.18 KB)\n",
            "Non-trainable params: 0 (0.00 Byte)\n",
            "_________________________________________________________________\n"
          ]
        }
      ]
    },
    {
      "cell_type": "markdown",
      "source": [
        "## Evaluating a model\n",
        "\n",
        "In practice, a typical workflow you'll go through when building neural networks is:\n",
        "```\n",
        "Build a model -> fit it -> evaluate it -> tweak a model -> fit it -> evaluate it -> tweak a model...\n",
        "```\n"
      ],
      "metadata": {
        "id": "oCwp0l76_QuE"
      }
    },
    {
      "cell_type": "markdown",
      "source": [
        "from os import GRND_NONBLOCK\n",
        "When it comes to evaluation... there are three words you should memorize:\n",
        "\"Visualize, visualize, visualize\"\n",
        "\n",
        "It's a good idea to visualize:\n",
        "* The data - what data are we working with? What does it look like?\n",
        "* The model itself - what does our model look like?\n",
        "* The training of a model - how does a model perform while it learns?\n",
        "* The predictions of a model - how do the predictions of a model line up against the ground truth (the original labels)?"
      ],
      "metadata": {
        "id": "OiVyUf60_vOD"
      }
    },
    {
      "cell_type": "code",
      "source": [
        " # Make a bigger dataset\n",
        "X = tf.range(-100, 100, 3)\n",
        "X"
      ],
      "metadata": {
        "colab": {
          "base_uri": "https://localhost:8080/"
        },
        "id": "NByCrI-_AIFW",
        "outputId": "7f455eba-2d8f-4c04-b69c-b917461a13e3"
      },
      "execution_count": 27,
      "outputs": [
        {
          "output_type": "execute_result",
          "data": {
            "text/plain": [
              "<tf.Tensor: shape=(67,), dtype=int32, numpy=\n",
              "array([-100,  -97,  -94,  -91,  -88,  -85,  -82,  -79,  -76,  -73,  -70,\n",
              "        -67,  -64,  -61,  -58,  -55,  -52,  -49,  -46,  -43,  -40,  -37,\n",
              "        -34,  -31,  -28,  -25,  -22,  -19,  -16,  -13,  -10,   -7,   -4,\n",
              "         -1,    2,    5,    8,   11,   14,   17,   20,   23,   26,   29,\n",
              "         32,   35,   38,   41,   44,   47,   50,   53,   56,   59,   62,\n",
              "         65,   68,   71,   74,   77,   80,   83,   86,   89,   92,   95,\n",
              "         98], dtype=int32)>"
            ]
          },
          "metadata": {},
          "execution_count": 27
        }
      ]
    },
    {
      "cell_type": "code",
      "source": [
        "y = X + 10\n",
        "y"
      ],
      "metadata": {
        "colab": {
          "base_uri": "https://localhost:8080/"
        },
        "id": "h0KNprPDAOpr",
        "outputId": "9a506008-319e-4ff0-ddac-361334c21b3c"
      },
      "execution_count": 28,
      "outputs": [
        {
          "output_type": "execute_result",
          "data": {
            "text/plain": [
              "<tf.Tensor: shape=(67,), dtype=int32, numpy=\n",
              "array([-90, -87, -84, -81, -78, -75, -72, -69, -66, -63, -60, -57, -54,\n",
              "       -51, -48, -45, -42, -39, -36, -33, -30, -27, -24, -21, -18, -15,\n",
              "       -12,  -9,  -6,  -3,   0,   3,   6,   9,  12,  15,  18,  21,  24,\n",
              "        27,  30,  33,  36,  39,  42,  45,  48,  51,  54,  57,  60,  63,\n",
              "        66,  69,  72,  75,  78,  81,  84,  87,  90,  93,  96,  99, 102,\n",
              "       105, 108], dtype=int32)>"
            ]
          },
          "metadata": {},
          "execution_count": 28
        }
      ]
    },
    {
      "cell_type": "code",
      "source": [
        "# plot the data\n",
        "plt.scatter(X, y)"
      ],
      "metadata": {
        "colab": {
          "base_uri": "https://localhost:8080/",
          "height": 448
        },
        "id": "x6qQvwvyAXD5",
        "outputId": "d3bacb92-0af5-48bb-c067-4a139df11ffa"
      },
      "execution_count": 29,
      "outputs": [
        {
          "output_type": "execute_result",
          "data": {
            "text/plain": [
              "<matplotlib.collections.PathCollection at 0x7ddf10e1ffd0>"
            ]
          },
          "metadata": {},
          "execution_count": 29
        },
        {
          "output_type": "display_data",
          "data": {
            "text/plain": [
              "<Figure size 640x480 with 1 Axes>"
            ],
            "image/png": "[encoded data removed]"
          },
          "metadata": {}
        }
      ]
    },
    {
      "cell_type": "markdown",
      "source": [
        "### The 3 sets of data...\n",
        "\n",
        "* Training set - the model learns from this data, which is typically 70-80% of the total data you have available\n",
        "* Validation set - the model gets tuned on this data, which is typically 10-15% of the data available\n",
        "* Test set - the model gets evaluated on this data to test what is has learned, this set is typically 10-15% of the total data available."
      ],
      "metadata": {
        "id": "q6CcGx4qAdjw"
      }
    },
    {
      "cell_type": "code",
      "source": [
        "# Check the length of how many samples we have\n",
        "len(X)"
      ],
      "metadata": {
        "colab": {
          "base_uri": "https://localhost:8080/"
        },
        "id": "sVrR7TufBRzR",
        "outputId": "ba4f3183-300a-4c92-ec9d-d031e06d12a0"
      },
      "execution_count": 30,
      "outputs": [
        {
          "output_type": "execute_result",
          "data": {
            "text/plain": [
              "67"
            ]
          },
          "metadata": {},
          "execution_count": 30
        }
      ]
    },
    {
      "cell_type": "code",
      "source": [
        "# Split the data into train and test sets\n",
        "X_train = X[:55]\n",
        "y_train = y[:55]\n",
        "\n",
        "X_test = X[55:]\n",
        "y_test = y[55:]\n",
        "\n",
        "len(X_train), len(X_test), len(y_train), len(y_test)"
      ],
      "metadata": {
        "colab": {
          "base_uri": "https://localhost:8080/"
        },
        "id": "meFzuKPfBcNl",
        "outputId": "1d5c4ff6-85a9-477e-ff2c-0ea9891b1e71"
      },
      "execution_count": 33,
      "outputs": [
        {
          "output_type": "execute_result",
          "data": {
            "text/plain": [
              "(55, 12, 55, 12)"
            ]
          },
          "metadata": {},
          "execution_count": 33
        }
      ]
    },
    {
      "cell_type": "markdown",
      "source": [
        "### Visualizing the data\n",
        "Now we've got our data in training and test sets... let's visualize it again!"
      ],
      "metadata": {
        "id": "U7zUVtt3CCsW"
      }
    },
    {
      "cell_type": "code",
      "source": [
        "plt.figure(figsize=(10, 7))\n",
        "# Plot training data in blue\n",
        "plt.scatter(X_train, y_train, c=\"b\", label=\"Training data\")\n",
        "# Plot test data in green\n",
        "plt.scatter(X_test, y_test, c=\"g\", label=\"Testing data\")\n",
        "# Show the legend\n",
        "plt.legend()"
      ],
      "metadata": {
        "colab": {
          "base_uri": "https://localhost:8080/",
          "height": 617
        },
        "id": "-CHWOyP_CS1w",
        "outputId": "55aa09b5-d5e2-4585-8fc2-be8dd39c1d1e"
      },
      "execution_count": 35,
      "outputs": [
        {
          "output_type": "execute_result",
          "data": {
            "text/plain": [
              "<matplotlib.legend.Legend at 0x7ddf80489240>"
            ]
          },
          "metadata": {},
          "execution_count": 35
        },
        {
          "output_type": "display_data",
          "data": {
            "text/plain": [
              "<Figure size 1000x700 with 1 Axes>"
            ],
            "image/png": "[encoded data removed]"
          },
          "metadata": {}
        }
      ]
    }
  ]
}